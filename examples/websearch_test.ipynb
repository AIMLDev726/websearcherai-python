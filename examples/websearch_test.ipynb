{
 "cells": [
  {
   "cell_type": "markdown",
   "metadata": {},
   "source": [
    "# WebSearch Package Testing\n",
    "\n",
    "Test the websearch package with different providers and queries."
   ]
  },
  {
   "cell_type": "code",
   "execution_count": 1,
   "metadata": {},
   "outputs": [],
   "source": [
    "from websearch import search\n"
   ]
  },
  {
   "cell_type": "markdown",
   "metadata": {},
   "source": [
    "## Test 1: Basic Search"
   ]
  },
  {
   "cell_type": "code",
   "execution_count": 3,
   "metadata": {},
   "outputs": [
    {
     "name": "stdout",
     "output_type": "stream",
     "text": [
      "Found 3 results\n",
      "1. Python For Beginners | Python.org\n",
      "   https://www.python.org/about/gettingstarted/\n",
      "   An experienced programmer in any programming language (whatever it may be) can pick up Python very quickly. It's also easy for beginners to use and learn....\n",
      "\n",
      "2. Introduction to Python - W3Schools\n",
      "   https://www.w3schools.com/python/python_intro.asp\n",
      "   Python is a popular programming language. It was created by Guido van Rossum, and released in 1991. It is used for:...\n",
      "\n",
      "3. Welcome to Python.org\n",
      "   https://www.python.org/\n",
      "   Python is a programming language that lets you work quickly and integrate systems more effectively. Learn More...\n",
      "\n"
     ]
    }
   ],
   "source": [
    "results = search(provider=\"google\", links=3, query=\"python programming\")\n",
    "print(f\"Found {len(results)} results\")\n",
    "\n",
    "for i, result in enumerate(results, 1):\n",
    "    print(f\"{i}. {result['title']}\")\n",
    "    print(f\"   {result['link']}\")\n",
    "    print(f\"   {result['snippet']}...\")\n",
    "    # print(f\"   {result['snippet'][:80]}...\")\n",
    "    print()\n"
   ]
  },
  {
   "cell_type": "markdown",
   "metadata": {},
   "source": [
    "## Test 2: Different Providers"
   ]
  },
  {
   "cell_type": "code",
   "execution_count": 4,
   "metadata": {},
   "outputs": [
    {
     "name": "stdout",
     "output_type": "stream",
     "text": [
      "google: 2 results\n",
      "  What is Machine Learning (ML) ? | IBM\n",
      "\n",
      "yahoo: 2 results\n",
      "  Machine learning - Wikipedia\n",
      "\n",
      "bing: 2 results\n",
      "  Distributed AutoML of Incremental Machine Learning Algorithms\n",
      "\n",
      "duckduckgo: 2 results\n",
      "  Machine learning - Wikipedia\n",
      "\n",
      "brave: 2 results\n",
      "  Machine learning\n",
      "\n"
     ]
    }
   ],
   "source": [
    "query = \"machine learning\"\n",
    "providers = [\"google\", \"yahoo\", \"bing\", \"duckduckgo\", \"brave\"]\n",
    "\n",
    "for provider in providers:\n",
    "    results = search(provider=provider, links=2, query=query)\n",
    "    print(f\"{provider}: {len(results)} results\")\n",
    "    if results:\n",
    "        print(f\"  {results[0]['title']}\")\n",
    "    print()\n"
   ]
  },
  {
   "cell_type": "markdown",
   "metadata": {},
   "source": [
    "## Test 3: Different Queries"
   ]
  },
  {
   "cell_type": "code",
   "execution_count": 5,
   "metadata": {},
   "outputs": [
    {
     "name": "stdout",
     "output_type": "stream",
     "text": [
      "healthy recipes: Healthy Recipes - EatingWell\n",
      "latest movies: New Movies Out Now in Theaters (2025) | Rotten Tomatoes\n",
      "web development: Web Development Roadmaps - W3Schools\n",
      "data science: Data science - Wikipedia\n",
      "mobile apps: Android Apps on Google Play\n"
     ]
    }
   ],
   "source": [
    "queries = [\n",
    "    \"healthy recipes\",\n",
    "    \"latest movies\", \n",
    "    \"web development\",\n",
    "    \"data science\",\n",
    "    \"mobile apps\"\n",
    "]\n",
    "\n",
    "for query in queries:\n",
    "    results = search(provider=\"yahoo\", links=1, query=query)\n",
    "    if results:\n",
    "        print(f\"{query}: {results[0]['title']}\")\n",
    "    else:\n",
    "        print(f\"{query}: No results\")\n"
   ]
  },
  {
   "cell_type": "markdown",
   "metadata": {},
   "source": [
    "## Test 4: Full Description"
   ]
  },
  {
   "cell_type": "code",
   "execution_count": 6,
   "metadata": {},
   "outputs": [
    {
     "name": "stdout",
     "output_type": "stream",
     "text": [
      "Title: Artificial intelligence - Wikipedia\n",
      "Link: https://en.wikipedia.org/wiki/Artificial_intelligence\n",
      "Description length: 1419\n",
      "Description preview: Main menuMain menumove to sidebarhideNavigationMain pageContentsCurrent eventsRandom articleAbout WikipediaContact usContributeHelpLearn to editCommunity portalRecent changesUpload fileSpecial pagesSe...\n"
     ]
    }
   ],
   "source": [
    "results = search(provider=\"google\", links=1, query=\"artificial intelligence\", description_full=True)\n",
    "\n",
    "if results:\n",
    "    result = results[0]\n",
    "    print(f\"Title: {result['title']}\")\n",
    "    print(f\"Link: {result['link']}\")\n",
    "    print(f\"Description length: {len(result['description'])}\")\n",
    "    print(f\"Description preview: {result['description'][:200]}...\")\n"
   ]
  },
  {
   "cell_type": "markdown",
   "metadata": {},
   "source": [
    "## Test 5: Raw HTML"
   ]
  },
  {
   "cell_type": "code",
   "execution_count": 7,
   "metadata": {},
   "outputs": [
    {
     "name": "stdout",
     "output_type": "stream",
     "text": [
      "Raw HTML length: 101544\n",
      "First 200 characters: <!DOCTYPE html><html dir=\"ltr\" lang=\"en\" xml:lang=\"en\" xmlns=\"http://www.w3.org/1999/xhtml\" xmlns:Web=\"http://schemas.live.com/Web/\"><script type=\"text/javascript\" nonce=\"d3FVKUGFyE9J5osAlIyDqvNcodYlu\n"
     ]
    }
   ],
   "source": [
    "html = search(provider=\"bing\", query=\"web scraping\", html_raw=True)\n",
    "print(f\"Raw HTML length: {len(html)}\")\n",
    "print(f\"First 200 characters: {html[:200]}\")\n"
   ]
  },
  {
   "cell_type": "markdown",
   "metadata": {},
   "source": [
    "## Test 6: Your Custom Queries\n",
    "\n",
    "Add your own test queries below:"
   ]
  },
  {
   "cell_type": "code",
   "execution_count": 8,
   "metadata": {},
   "outputs": [
    {
     "name": "stdout",
     "output_type": "stream",
     "text": [
      "Artificial Intelligence Markup Language - Wikipedia\n",
      "https://en.wikipedia.org/wiki/Artificial_Intelligence_Markup_Language\n",
      "\n",
      "AIML Introduction - GeeksforGeeks\n",
      "https://www.geeksforgeeks.org/artificial-intelligence/aiml-introduction/\n",
      "\n",
      "AIML Tutorial - Tutorialspoint\n",
      "https://www.tutorialspoint.com/aiml/index.htm\n",
      "\n",
      "Artificial Intelligence Markup Language (AIML) - Engati\n",
      "https://www.engati.com/glossary/artificial-intelligence-markup-language\n",
      "\n"
     ]
    }
   ],
   "source": [
    "# Test your own queries here\n",
    "my_query = \"AIML\"\n",
    "results = search(provider=\"google\", links=5, query=my_query)\n",
    "\n",
    "for result in results:\n",
    "    print(result['title'])\n",
    "    print(result['link'])\n",
    "    print()\n"
   ]
  },
  {
   "cell_type": "code",
   "execution_count": null,
   "metadata": {},
   "outputs": [],
   "source": []
  }
 ],
 "metadata": {
  "kernelspec": {
   "display_name": "base",
   "language": "python",
   "name": "python3"
  },
  "language_info": {
   "codemirror_mode": {
    "name": "ipython",
    "version": 3
   },
   "file_extension": ".py",
   "mimetype": "text/x-python",
   "name": "python",
   "nbconvert_exporter": "python",
   "pygments_lexer": "ipython3",
   "version": "3.13.5"
  }
 },
 "nbformat": 4,
 "nbformat_minor": 4
}
